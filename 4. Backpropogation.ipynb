{
 "cells": [
  {
   "cell_type": "code",
   "execution_count": 1,
   "metadata": {},
   "outputs": [],
   "source": [
    "import numpy as np"
   ]
  },
  {
   "cell_type": "code",
   "execution_count": 2,
   "metadata": {},
   "outputs": [],
   "source": [
    "np.random.seed(1)\n",
    "\n",
    "def relu(x):\n",
    "    return (x > 0) * x  # returns x if x > 0\n",
    "                        # return 0 otherwise\n",
    "    \n",
    "def relu2deriv(output):\n",
    "    return output > 0   # returns 1 for input > 0\n",
    "                        # return 0 otherwise"
   ]
  },
  {
   "cell_type": "code",
   "execution_count": 3,
   "metadata": {},
   "outputs": [
    {
     "data": {
      "text/plain": [
       "(0, 1000, True, False)"
      ]
     },
     "execution_count": 3,
     "metadata": {},
     "output_type": "execute_result"
    }
   ],
   "source": [
    "relu(-1000), relu(1000), relu2deriv(100), relu2deriv(-100)"
   ]
  },
  {
   "cell_type": "code",
   "execution_count": 4,
   "metadata": {},
   "outputs": [],
   "source": [
    "alpha = 0.2\n",
    "hidden_size = 4"
   ]
  },
  {
   "cell_type": "code",
   "execution_count": 5,
   "metadata": {},
   "outputs": [],
   "source": [
    "streetlights = np.array( [[ 1, 0, 1 ],\n",
    "                          [ 0, 1, 1 ],\n",
    "                          [ 0, 0, 1 ],\n",
    "                          [ 1, 1, 1 ] ] )\n",
    "\n",
    "walk_vs_stop = np.array([[ 1, 1, 0, 0]]).T"
   ]
  },
  {
   "cell_type": "code",
   "execution_count": 35,
   "metadata": {},
   "outputs": [],
   "source": [
    "weights_0_1 = 2*np.random.random((3,hidden_size)) - 1    # 3x4\n",
    "weights_1_2 = 2*np.random.random((hidden_size,1)) - 1    # 4x1"
   ]
  },
  {
   "cell_type": "code",
   "execution_count": 7,
   "metadata": {},
   "outputs": [
    {
     "name": "stdout",
     "output_type": "stream",
     "text": [
      "Error:0.6342311598444467\n",
      "Error:0.35838407676317513\n",
      "Error:0.0830183113303298\n",
      "Error:0.006467054957103705\n",
      "Error:0.0003292669000750734\n",
      "Error:1.5055622665134859e-05\n",
      "Error:6.623830121108468e-07\n",
      "Error:2.8900540237497683e-08\n",
      "Error:1.2587641233552748e-09\n",
      "Error:5.480552259746703e-11\n",
      "Error:2.3860043209091744e-12\n",
      "Error:1.0387504595876368e-13\n"
     ]
    }
   ],
   "source": [
    "for iteration in range(120):\n",
    "    layer_2_error = 0\n",
    "    for i in range(len(streetlights)):       \n",
    "        layer_0 = streetlights[i:i+1]                                     \n",
    "        layer_1 = relu(np.dot(layer_0,weights_0_1))                      \n",
    "        layer_2 = np.dot(layer_1,weights_1_2)                             \n",
    "        layer_2_error += np.sum((layer_2 - walk_vs_stop[i:i+1]) ** 2)      \n",
    "        layer_2_delta = (walk_vs_stop[i:i+1] - layer_2)                    \n",
    "        layer_1_delta=layer_2_delta.dot(weights_1_2.T)*relu2deriv(layer_1)   \n",
    "        weights_1_2 += alpha * layer_1.T.dot(layer_2_delta)                \n",
    "        weights_0_1 += alpha * layer_0.T.dot(layer_1_delta)      \n",
    "    if(iteration % 10 == 9):\n",
    "        print(\"Error:\" + str(layer_2_error))"
   ]
  },
  {
   "cell_type": "code",
   "execution_count": 84,
   "metadata": {},
   "outputs": [
    {
     "name": "stdout",
     "output_type": "stream",
     "text": [
      "layer_0\n",
      "[[1 0 1]]\n",
      "-----------------\n",
      "layer_1\n",
      "[[ 1.89350124  0.56266188 -0.          0.20958992]]\n",
      "-----------------\n",
      "layer_2\n",
      "[[-1.64773354]]\n",
      "-----------------\n",
      "layer_2_error\n",
      "42.61925911791417\n",
      "-----------------\n",
      "layer_2_delta\n",
      "[[2.64773354]]\n",
      "-----------------\n",
      "layer_1_delta\n",
      "[[-2.10110362 -0.27592812  0.         -1.09290948]]\n",
      "-----------------\n",
      "42.61925911791417\n"
     ]
    }
   ],
   "source": [
    "i = 0\n",
    "\n",
    "layer_0 = streetlights[i:i+1]  \n",
    "layer_1 = relu(np.dot(layer_0,weights_0_1))  \n",
    "layer_2 = np.dot(layer_1,weights_1_2)                              \n",
    "layer_2_error += np.sum((layer_2 - walk_vs_stop[i:i+1]) ** 2)    \n",
    "layer_2_delta = (walk_vs_stop[i:i+1] - layer_2)               \n",
    "layer_1_delta=layer_2_delta.dot(weights_1_2.T)*relu2deriv(layer_1)\n",
    "\n",
    "var_list = ['layer_0', 'layer_1', 'layer_2', 'layer_2_error', 'layer_2_delta', 'layer_1_delta']\n",
    "k=0\n",
    "for i in [layer_0, layer_1, layer_2, layer_2_error, layer_2_delta, layer_1_delta]:\n",
    "    \n",
    "    print(var_list[k])\n",
    "    k+=1\n",
    "    print(i)\n",
    "    print('-----------------')\n",
    "    \n",
    "print(layer_2_error)"
   ]
  }
 ],
 "metadata": {
  "kernelspec": {
   "display_name": "Python 3",
   "language": "python",
   "name": "python3"
  },
  "language_info": {
   "codemirror_mode": {
    "name": "ipython",
    "version": 3
   },
   "file_extension": ".py",
   "mimetype": "text/x-python",
   "name": "python",
   "nbconvert_exporter": "python",
   "pygments_lexer": "ipython3",
   "version": "3.8.5"
  }
 },
 "nbformat": 4,
 "nbformat_minor": 4
}
