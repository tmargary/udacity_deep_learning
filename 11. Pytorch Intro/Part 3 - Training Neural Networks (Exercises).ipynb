{
 "cells": [
  {
   "cell_type": "markdown",
   "metadata": {},
   "source": [
    "# Training Neural Networks\n",
    "\n",
    "The network we built in the previous part isn't so smart, it doesn't know anything about our handwritten digits. Neural networks with non-linear activations work like universal function approximators. There is some function that maps your input to the output. For example, images of handwritten digits to class probabilities. The power of neural networks is that we can train them to approximate this function, and basically any function given enough data and compute time.\n",
    "\n",
    "<img src=\"assets/function_approx.png\" width=500px>\n",
    "\n",
    "At first the network is naive, it doesn't know the function mapping the inputs to the outputs. We train the network by showing it examples of real data, then adjusting the network parameters such that it approximates this function.\n",
    "\n",
    "To find these parameters, we need to know how poorly the network is predicting the real outputs. For this we calculate a **loss function** (also called the cost), a measure of our prediction error. For example, the mean squared loss is often used in regression and binary classification problems\n",
    "\n",
    "$$\n",
    "\\large \\ell = \\frac{1}{2n}\\sum_i^n{\\left(y_i - \\hat{y}_i\\right)^2}\n",
    "$$\n",
    "\n",
    "where $n$ is the number of training examples, $y_i$ are the true labels, and $\\hat{y}_i$ are the predicted labels.\n",
    "\n",
    "By minimizing this loss with respect to the network parameters, we can find configurations where the loss is at a minimum and the network is able to predict the correct labels with high accuracy. We find this minimum using a process called **gradient descent**. The gradient is the slope of the loss function and points in the direction of fastest change. To get to the minimum in the least amount of time, we then want to follow the gradient (downwards). You can think of this like descending a mountain by following the steepest slope to the base.\n",
    "\n",
    "<img src='assets/gradient_descent.png' width=350px>"
   ]
  },
  {
   "cell_type": "markdown",
   "metadata": {},
   "source": [
    "## Backpropagation\n",
    "\n",
    "For single layer networks, gradient descent is straightforward to implement. However, it's more complicated for deeper, multilayer neural networks like the one we've built. Complicated enough that it took about 30 years before researchers figured out how to train multilayer networks.\n",
    "\n",
    "Training multilayer networks is done through **backpropagation** which is really just an application of the chain rule from calculus. It's easiest to understand if we convert a two layer network into a graph representation.\n",
    "\n",
    "<img src='assets/backprop_diagram.png' width=550px>\n",
    "\n",
    "In the forward pass through the network, our data and operations go from bottom to top here. We pass the input $x$ through a linear transformation $L_1$ with weights $W_1$ and biases $b_1$. The output then goes through the sigmoid operation $S$ and another linear transformation $L_2$. Finally we calculate the loss $\\ell$. We use the loss as a measure of how bad the network's predictions are. The goal then is to adjust the weights and biases to minimize the loss.\n",
    "\n",
    "To train the weights with gradient descent, we propagate the gradient of the loss backwards through the network. Each operation has some gradient between the inputs and outputs. As we send the gradients backwards, we multiply the incoming gradient with the gradient for the operation. Mathematically, this is really just calculating the gradient of the loss with respect to the weights using the chain rule.\n",
    "\n",
    "$$\n",
    "\\large \\frac{\\partial \\ell}{\\partial W_1} = \\frac{\\partial L_1}{\\partial W_1} \\frac{\\partial S}{\\partial L_1} \\frac{\\partial L_2}{\\partial S} \\frac{\\partial \\ell}{\\partial L_2}\n",
    "$$\n",
    "\n",
    "**Note:** I'm glossing over a few details here that require some knowledge of vector calculus, but they aren't necessary to understand what's going on.\n",
    "\n",
    "We update our weights using this gradient with some learning rate $\\alpha$. \n",
    "\n",
    "$$\n",
    "\\large W^\\prime_1 = W_1 - \\alpha \\frac{\\partial \\ell}{\\partial W_1}\n",
    "$$\n",
    "\n",
    "The learning rate $\\alpha$ is set such that the weight update steps are small enough that the iterative method settles in a minimum."
   ]
  },
  {
   "cell_type": "markdown",
   "metadata": {},
   "source": [
    "## Losses in PyTorch\n",
    "\n",
    "Let's start by seeing how we calculate the loss with PyTorch. Through the `nn` module, PyTorch provides losses such as the cross-entropy loss (`nn.CrossEntropyLoss`). You'll usually see the loss assigned to `criterion`. As noted in the last part, with a classification problem such as MNIST, we're using the softmax function to predict class probabilities. With a softmax output, you want to use cross-entropy as the loss. To actually calculate the loss, you first define the criterion then pass in the output of your network and the correct labels.\n",
    "\n",
    "Something really important to note here. Looking at [the documentation for `nn.CrossEntropyLoss`](https://pytorch.org/docs/stable/nn.html#torch.nn.CrossEntropyLoss),\n",
    "\n",
    "> This criterion combines `nn.LogSoftmax()` and `nn.NLLLoss()` in one single class.\n",
    ">\n",
    "> The input is expected to contain scores for each class.\n",
    "\n",
    "This means we need to pass in the raw output of our network into the loss, not the output of the softmax function. This raw output is usually called the *logits* or *scores*. We use the logits because softmax gives you probabilities which will often be very close to zero or one but floating-point numbers can't accurately represent values near zero or one ([read more here](https://docs.python.org/3/tutorial/floatingpoint.html)). It's usually best to avoid doing calculations with probabilities, typically we use log-probabilities."
   ]
  },
  {
   "cell_type": "code",
   "execution_count": 1,
   "metadata": {},
   "outputs": [
    {
     "name": "stdout",
     "output_type": "stream",
     "text": [
      "Downloading http://yann.lecun.com/exdb/mnist/train-images-idx3-ubyte.gz\n",
      "Downloading http://yann.lecun.com/exdb/mnist/train-labels-idx1-ubyte.gz\n",
      "Downloading http://yann.lecun.com/exdb/mnist/t10k-images-idx3-ubyte.gz\n",
      "Downloading http://yann.lecun.com/exdb/mnist/t10k-labels-idx1-ubyte.gz\n",
      "Processing...\n",
      "Done!\n"
     ]
    }
   ],
   "source": [
    "import torch\n",
    "from torch import nn\n",
    "import torch.nn.functional as F\n",
    "from torchvision import datasets, transforms\n",
    "\n",
    "# Define a transform to normalize the data\n",
    "transform = transforms.Compose([transforms.ToTensor(),\n",
    "                                transforms.Normalize((0.5, 0.5, 0.5), (0.5, 0.5, 0.5)),\n",
    "                              ])\n",
    "# Download and load the training data\n",
    "trainset = datasets.MNIST('~/.pytorch/MNIST_data/', download=True, train=True, transform=transform)\n",
    "trainloader = torch.utils.data.DataLoader(trainset, batch_size=64, shuffle=True)"
   ]
  },
  {
   "cell_type": "markdown",
   "metadata": {},
   "source": [
    "### Note\n",
    "If you haven't seen `nn.Sequential` yet, please finish the end of the Part 2 notebook."
   ]
  },
  {
   "cell_type": "code",
   "execution_count": 2,
   "metadata": {},
   "outputs": [
    {
     "name": "stdout",
     "output_type": "stream",
     "text": [
      "tensor(2.2990)\n"
     ]
    }
   ],
   "source": [
    "# Build a feed-forward network\n",
    "model = nn.Sequential(nn.Linear(784, 128),\n",
    "                      nn.ReLU(),\n",
    "                      nn.Linear(128, 64),\n",
    "                      nn.ReLU(),\n",
    "                      nn.Linear(64, 10))\n",
    "\n",
    "# Define the loss\n",
    "criterion = nn.CrossEntropyLoss()\n",
    "\n",
    "# Get our data\n",
    "images, labels = next(iter(trainloader))\n",
    "# Flatten images\n",
    "images = images.view(images.shape[0], -1) # .view(64, 784)\n",
    "\n",
    "# Forward pass, get our logits\n",
    "logits = model(images)\n",
    "# Calculate the loss with the logits and the labels\n",
    "loss = criterion(logits, labels)\n",
    "\n",
    "print(loss)"
   ]
  },
  {
   "cell_type": "markdown",
   "metadata": {},
   "source": [
    "#### < draft >"
   ]
  },
  {
   "cell_type": "code",
   "execution_count": 3,
   "metadata": {},
   "outputs": [],
   "source": [
    "images = next(iter(trainloader))[0]\n",
    "images = images.view(images.shape[0], -1) # .view(64, 784)"
   ]
  },
  {
   "cell_type": "code",
   "execution_count": 4,
   "metadata": {},
   "outputs": [],
   "source": [
    "logits = model(images)"
   ]
  },
  {
   "cell_type": "code",
   "execution_count": 5,
   "metadata": {},
   "outputs": [
    {
     "data": {
      "text/plain": [
       "tensor([[ 0.1090, -0.0210,  0.0043,  0.0030, -0.1451,  0.0308, -0.0532,\n",
       "          0.0775, -0.0494, -0.0096],\n",
       "        [ 0.0225, -0.0423,  0.0855,  0.0035, -0.0508,  0.0154, -0.0930,\n",
       "          0.0031, -0.0143, -0.1431],\n",
       "        [ 0.0586,  0.0281,  0.0071,  0.0488, -0.0251,  0.0138, -0.0133,\n",
       "         -0.0513, -0.0245, -0.1400],\n",
       "        [ 0.0054, -0.0720,  0.0199, -0.0078, -0.0642,  0.0115, -0.0526,\n",
       "         -0.0021,  0.0204, -0.1133],\n",
       "        [ 0.0224, -0.0473,  0.0371, -0.0357, -0.0857,  0.0216, -0.0465,\n",
       "         -0.0150,  0.0169, -0.1042],\n",
       "        [ 0.0810, -0.0048,  0.0199, -0.1578, -0.0256,  0.0378, -0.0867,\n",
       "          0.0111,  0.0338, -0.1180],\n",
       "        [ 0.0211, -0.0855,  0.0621, -0.0201, -0.0392,  0.0403, -0.1035,\n",
       "         -0.0291,  0.0087, -0.0871],\n",
       "        [ 0.0791, -0.0100, -0.0346,  0.0548, -0.1559,  0.0147, -0.0517,\n",
       "          0.0275,  0.0610, -0.0984],\n",
       "        [ 0.0363, -0.0429,  0.0657, -0.0405, -0.0822,  0.0204, -0.0676,\n",
       "          0.0175, -0.0074, -0.0742],\n",
       "        [ 0.0934,  0.0486, -0.0413,  0.1237, -0.1199, -0.0499, -0.1916,\n",
       "          0.0689,  0.0372, -0.1846],\n",
       "        [ 0.1052, -0.0370,  0.0236, -0.0041, -0.0333,  0.0187, -0.0261,\n",
       "         -0.0251,  0.0198, -0.1408],\n",
       "        [ 0.0588, -0.0391, -0.0037,  0.0556, -0.1140,  0.0705, -0.0272,\n",
       "         -0.0552,  0.0627, -0.2047],\n",
       "        [ 0.1330, -0.0106,  0.0206, -0.0719, -0.0652,  0.0855, -0.1000,\n",
       "          0.0313,  0.0609, -0.1283],\n",
       "        [ 0.0283, -0.0466,  0.0791, -0.0937,  0.0018,  0.0123, -0.1130,\n",
       "          0.0481,  0.0256, -0.1677],\n",
       "        [ 0.0965,  0.0782, -0.0222,  0.0140, -0.0529, -0.0073, -0.1459,\n",
       "          0.0664, -0.0778, -0.0567],\n",
       "        [ 0.0306, -0.0685,  0.0442, -0.0107, -0.0714,  0.0374, -0.0209,\n",
       "         -0.0410,  0.0038, -0.1415],\n",
       "        [ 0.0862, -0.0326,  0.0487, -0.0487, -0.0788,  0.0407, -0.0936,\n",
       "          0.0568, -0.0634, -0.0910],\n",
       "        [ 0.0170, -0.0123,  0.0473,  0.0388, -0.0244,  0.0168, -0.0831,\n",
       "         -0.0152, -0.0881, -0.0864],\n",
       "        [ 0.0955,  0.0142, -0.0047, -0.0752, -0.1141,  0.0798, -0.0813,\n",
       "          0.1305,  0.0059, -0.0794],\n",
       "        [ 0.0089, -0.0133, -0.0652,  0.0107, -0.1006, -0.0177, -0.0111,\n",
       "         -0.0306,  0.0470, -0.0864],\n",
       "        [ 0.0890, -0.0272,  0.0487, -0.0586, -0.0793,  0.0449, -0.0980,\n",
       "          0.0439, -0.0077, -0.0717],\n",
       "        [ 0.1411,  0.0325,  0.0221, -0.0564, -0.1677,  0.0629, -0.0825,\n",
       "          0.0944, -0.0323, -0.0229],\n",
       "        [ 0.0677,  0.0238,  0.0018,  0.0256, -0.0405, -0.0463, -0.0961,\n",
       "         -0.0038,  0.0523, -0.1512],\n",
       "        [ 0.0234, -0.0652,  0.0734, -0.0483, -0.0537,  0.0665, -0.0381,\n",
       "         -0.0488,  0.0379, -0.1516],\n",
       "        [ 0.0224,  0.0272, -0.0141,  0.0570, -0.0479, -0.0357, -0.0772,\n",
       "         -0.0144, -0.0107, -0.1111],\n",
       "        [ 0.0622, -0.0267,  0.0163, -0.0659,  0.0032,  0.0608, -0.0343,\n",
       "         -0.0010,  0.0540, -0.1762],\n",
       "        [ 0.0314, -0.1063,  0.1316,  0.0079, -0.0986,  0.0246, -0.0776,\n",
       "         -0.0528, -0.0227, -0.1514],\n",
       "        [ 0.1209,  0.0279, -0.0254,  0.0077, -0.1208, -0.0090, -0.0384,\n",
       "         -0.0331,  0.0333, -0.1389],\n",
       "        [ 0.0374, -0.0412,  0.0635, -0.0110, -0.0783,  0.0025, -0.1018,\n",
       "         -0.0555, -0.0073, -0.0852],\n",
       "        [ 0.0126, -0.0268, -0.0117,  0.0089, -0.0724, -0.0080, -0.0513,\n",
       "         -0.0395,  0.0319, -0.0748],\n",
       "        [ 0.0466, -0.0426,  0.0018, -0.0326, -0.0683,  0.0218, -0.0535,\n",
       "         -0.0040,  0.0585, -0.2070],\n",
       "        [ 0.0393,  0.0105, -0.0395, -0.0836, -0.1025, -0.0158, -0.0632,\n",
       "          0.0191,  0.0719, -0.0555],\n",
       "        [ 0.1007,  0.0196,  0.0042, -0.0972, -0.0508,  0.0239, -0.0493,\n",
       "          0.0245,  0.0585, -0.0746],\n",
       "        [ 0.0443, -0.0675,  0.0738, -0.1350, -0.0364,  0.0433, -0.1237,\n",
       "         -0.0011,  0.0977, -0.1104],\n",
       "        [ 0.0548, -0.0657,  0.0023,  0.0052, -0.0773,  0.0428, -0.0919,\n",
       "         -0.0020,  0.0375, -0.2073],\n",
       "        [ 0.0554, -0.0314,  0.0486, -0.0547, -0.0379,  0.0087, -0.0900,\n",
       "         -0.0175,  0.0593, -0.1390],\n",
       "        [ 0.1261, -0.0163,  0.0310, -0.0274, -0.0756, -0.0035, -0.0741,\n",
       "          0.0268,  0.0657, -0.0302],\n",
       "        [ 0.0192,  0.0127, -0.0278,  0.0197, -0.0897, -0.0433, -0.0526,\n",
       "         -0.0349,  0.0497, -0.1295],\n",
       "        [ 0.1046,  0.0360,  0.0048,  0.0122, -0.0822, -0.0095, -0.0996,\n",
       "          0.0449, -0.0197, -0.0366],\n",
       "        [ 0.1357, -0.0512, -0.0325,  0.0478, -0.1006,  0.0630, -0.0519,\n",
       "          0.0119,  0.0171, -0.1364],\n",
       "        [ 0.0733, -0.0282,  0.0617, -0.0598, -0.0526,  0.0143, -0.0961,\n",
       "          0.0646,  0.0220, -0.0740],\n",
       "        [ 0.1072, -0.0256,  0.0080,  0.0269, -0.1164, -0.0293, -0.0848,\n",
       "          0.0403, -0.0170, -0.0810],\n",
       "        [ 0.0522, -0.0345,  0.0681, -0.0508, -0.0149, -0.0027, -0.0861,\n",
       "          0.0090,  0.0279, -0.0476],\n",
       "        [ 0.0336, -0.0270,  0.0463,  0.0242, -0.0692,  0.0148, -0.0889,\n",
       "          0.0069,  0.0429, -0.1187],\n",
       "        [ 0.0412, -0.0588,  0.1421, -0.0679, -0.0819,  0.0361, -0.0667,\n",
       "         -0.0205,  0.0112, -0.0617],\n",
       "        [-0.0192, -0.0229,  0.0079,  0.0163, -0.1022, -0.0083, -0.0842,\n",
       "         -0.0292,  0.0300, -0.0632],\n",
       "        [ 0.0388, -0.0465,  0.0452, -0.0096, -0.0730,  0.0260,  0.0010,\n",
       "         -0.0563,  0.0002, -0.1460],\n",
       "        [ 0.0585, -0.0233,  0.0028,  0.0161, -0.0867,  0.0093, -0.0248,\n",
       "         -0.0537,  0.0368, -0.1345],\n",
       "        [-0.0182, -0.0424,  0.1421, -0.1128,  0.0408,  0.0831, -0.0710,\n",
       "         -0.0685, -0.0097, -0.1386],\n",
       "        [ 0.0904, -0.0433, -0.0262, -0.0338, -0.0709,  0.0328, -0.0466,\n",
       "          0.0520,  0.0570, -0.1342],\n",
       "        [ 0.0004, -0.0001, -0.0413, -0.0188, -0.0679, -0.0130, -0.0327,\n",
       "         -0.0566,  0.0568, -0.1145],\n",
       "        [ 0.0725,  0.0022, -0.0735, -0.0096, -0.1015,  0.0042, -0.0823,\n",
       "          0.0531,  0.0774, -0.1119],\n",
       "        [ 0.0298, -0.0095, -0.0330,  0.0314, -0.0643, -0.0228, -0.0824,\n",
       "          0.0220,  0.0060, -0.1083],\n",
       "        [ 0.0308, -0.0286,  0.0189, -0.0714, -0.0708,  0.0152, -0.0518,\n",
       "          0.0136,  0.0533, -0.0235],\n",
       "        [ 0.0370, -0.0697,  0.1180, -0.0736, -0.0451,  0.0486, -0.0542,\n",
       "         -0.0285,  0.0219, -0.0970],\n",
       "        [ 0.0398, -0.0479,  0.0211,  0.0635, -0.0987,  0.0075, -0.0265,\n",
       "         -0.0583,  0.0348, -0.1169],\n",
       "        [ 0.0263, -0.0431,  0.0002, -0.0012, -0.0726,  0.0054, -0.0068,\n",
       "         -0.0358,  0.0060, -0.1099],\n",
       "        [-0.0006,  0.0431, -0.0553,  0.0012, -0.0880, -0.0647, -0.0845,\n",
       "         -0.0137,  0.0675, -0.0553],\n",
       "        [ 0.0406, -0.0517,  0.0792, -0.0179, -0.0934,  0.0024, -0.0577,\n",
       "          0.0428,  0.0217, -0.0719],\n",
       "        [ 0.1034, -0.0223,  0.0190,  0.0002, -0.1085,  0.0818, -0.0019,\n",
       "         -0.0015,  0.0565, -0.1539],\n",
       "        [ 0.0141, -0.0024,  0.0380,  0.0348, -0.0797, -0.0636, -0.0794,\n",
       "         -0.0214,  0.0165, -0.1152],\n",
       "        [ 0.0631,  0.0012, -0.0223,  0.0303, -0.0793, -0.0191, -0.0825,\n",
       "         -0.0412,  0.0674, -0.1722],\n",
       "        [ 0.1021,  0.0105,  0.0348, -0.0185, -0.0920, -0.0064, -0.1190,\n",
       "          0.0913, -0.0204, -0.0758],\n",
       "        [ 0.0734,  0.0337,  0.0375, -0.0258, -0.0057, -0.0193, -0.0717,\n",
       "         -0.0033,  0.0192, -0.0438]])"
      ]
     },
     "execution_count": 5,
     "metadata": {},
     "output_type": "execute_result"
    }
   ],
   "source": [
    "logits"
   ]
  },
  {
   "cell_type": "code",
   "execution_count": 6,
   "metadata": {},
   "outputs": [
    {
     "data": {
      "text/plain": [
       "tensor([[ 0.1090, -0.0210,  0.0043,  0.0030, -0.1451,  0.0308, -0.0532,\n",
       "          0.0775, -0.0494, -0.0096],\n",
       "        [ 0.0225, -0.0423,  0.0855,  0.0035, -0.0508,  0.0154, -0.0930,\n",
       "          0.0031, -0.0143, -0.1431],\n",
       "        [ 0.0586,  0.0281,  0.0071,  0.0488, -0.0251,  0.0138, -0.0133,\n",
       "         -0.0513, -0.0245, -0.1400],\n",
       "        [ 0.0054, -0.0720,  0.0199, -0.0078, -0.0642,  0.0115, -0.0526,\n",
       "         -0.0021,  0.0204, -0.1133],\n",
       "        [ 0.0224, -0.0473,  0.0371, -0.0357, -0.0857,  0.0216, -0.0465,\n",
       "         -0.0150,  0.0169, -0.1042],\n",
       "        [ 0.0810, -0.0048,  0.0199, -0.1578, -0.0256,  0.0378, -0.0867,\n",
       "          0.0111,  0.0338, -0.1180],\n",
       "        [ 0.0211, -0.0855,  0.0621, -0.0201, -0.0392,  0.0403, -0.1035,\n",
       "         -0.0291,  0.0087, -0.0871],\n",
       "        [ 0.0791, -0.0100, -0.0346,  0.0548, -0.1559,  0.0147, -0.0517,\n",
       "          0.0275,  0.0610, -0.0984],\n",
       "        [ 0.0363, -0.0429,  0.0657, -0.0405, -0.0822,  0.0204, -0.0676,\n",
       "          0.0175, -0.0074, -0.0742],\n",
       "        [ 0.0934,  0.0486, -0.0413,  0.1237, -0.1199, -0.0499, -0.1916,\n",
       "          0.0689,  0.0372, -0.1846],\n",
       "        [ 0.1052, -0.0370,  0.0236, -0.0041, -0.0333,  0.0187, -0.0261,\n",
       "         -0.0251,  0.0198, -0.1408],\n",
       "        [ 0.0588, -0.0391, -0.0037,  0.0556, -0.1140,  0.0705, -0.0272,\n",
       "         -0.0552,  0.0627, -0.2047],\n",
       "        [ 0.1330, -0.0106,  0.0206, -0.0719, -0.0652,  0.0855, -0.1000,\n",
       "          0.0313,  0.0609, -0.1283],\n",
       "        [ 0.0283, -0.0466,  0.0791, -0.0937,  0.0018,  0.0123, -0.1130,\n",
       "          0.0481,  0.0256, -0.1677],\n",
       "        [ 0.0965,  0.0782, -0.0222,  0.0140, -0.0529, -0.0073, -0.1459,\n",
       "          0.0664, -0.0778, -0.0567],\n",
       "        [ 0.0306, -0.0685,  0.0442, -0.0107, -0.0714,  0.0374, -0.0209,\n",
       "         -0.0410,  0.0038, -0.1415],\n",
       "        [ 0.0862, -0.0326,  0.0487, -0.0487, -0.0788,  0.0407, -0.0936,\n",
       "          0.0568, -0.0634, -0.0910],\n",
       "        [ 0.0170, -0.0123,  0.0473,  0.0388, -0.0244,  0.0168, -0.0831,\n",
       "         -0.0152, -0.0881, -0.0864],\n",
       "        [ 0.0955,  0.0142, -0.0047, -0.0752, -0.1141,  0.0798, -0.0813,\n",
       "          0.1305,  0.0059, -0.0794],\n",
       "        [ 0.0089, -0.0133, -0.0652,  0.0107, -0.1006, -0.0177, -0.0111,\n",
       "         -0.0306,  0.0470, -0.0864],\n",
       "        [ 0.0890, -0.0272,  0.0487, -0.0586, -0.0793,  0.0449, -0.0980,\n",
       "          0.0439, -0.0077, -0.0717],\n",
       "        [ 0.1411,  0.0325,  0.0221, -0.0564, -0.1677,  0.0629, -0.0825,\n",
       "          0.0944, -0.0323, -0.0229],\n",
       "        [ 0.0677,  0.0238,  0.0018,  0.0256, -0.0405, -0.0463, -0.0961,\n",
       "         -0.0038,  0.0523, -0.1512],\n",
       "        [ 0.0234, -0.0652,  0.0734, -0.0483, -0.0537,  0.0665, -0.0381,\n",
       "         -0.0488,  0.0379, -0.1516],\n",
       "        [ 0.0224,  0.0272, -0.0141,  0.0570, -0.0479, -0.0357, -0.0772,\n",
       "         -0.0144, -0.0107, -0.1111],\n",
       "        [ 0.0622, -0.0267,  0.0163, -0.0659,  0.0032,  0.0608, -0.0343,\n",
       "         -0.0010,  0.0540, -0.1762],\n",
       "        [ 0.0314, -0.1063,  0.1316,  0.0079, -0.0986,  0.0246, -0.0776,\n",
       "         -0.0528, -0.0227, -0.1514],\n",
       "        [ 0.1209,  0.0279, -0.0254,  0.0077, -0.1208, -0.0090, -0.0384,\n",
       "         -0.0331,  0.0333, -0.1389],\n",
       "        [ 0.0374, -0.0412,  0.0635, -0.0110, -0.0783,  0.0025, -0.1018,\n",
       "         -0.0555, -0.0073, -0.0852],\n",
       "        [ 0.0126, -0.0268, -0.0117,  0.0089, -0.0724, -0.0080, -0.0513,\n",
       "         -0.0395,  0.0319, -0.0748],\n",
       "        [ 0.0466, -0.0426,  0.0018, -0.0326, -0.0683,  0.0218, -0.0535,\n",
       "         -0.0040,  0.0585, -0.2070],\n",
       "        [ 0.0393,  0.0105, -0.0395, -0.0836, -0.1025, -0.0158, -0.0632,\n",
       "          0.0191,  0.0719, -0.0555],\n",
       "        [ 0.1007,  0.0196,  0.0042, -0.0972, -0.0508,  0.0239, -0.0493,\n",
       "          0.0245,  0.0585, -0.0746],\n",
       "        [ 0.0443, -0.0675,  0.0738, -0.1350, -0.0364,  0.0433, -0.1237,\n",
       "         -0.0011,  0.0977, -0.1104],\n",
       "        [ 0.0548, -0.0657,  0.0023,  0.0052, -0.0773,  0.0428, -0.0919,\n",
       "         -0.0020,  0.0375, -0.2073],\n",
       "        [ 0.0554, -0.0314,  0.0486, -0.0547, -0.0379,  0.0087, -0.0900,\n",
       "         -0.0175,  0.0593, -0.1390],\n",
       "        [ 0.1261, -0.0163,  0.0310, -0.0274, -0.0756, -0.0035, -0.0741,\n",
       "          0.0268,  0.0657, -0.0302],\n",
       "        [ 0.0192,  0.0127, -0.0278,  0.0197, -0.0897, -0.0433, -0.0526,\n",
       "         -0.0349,  0.0497, -0.1295],\n",
       "        [ 0.1046,  0.0360,  0.0048,  0.0122, -0.0822, -0.0095, -0.0996,\n",
       "          0.0449, -0.0197, -0.0366],\n",
       "        [ 0.1357, -0.0512, -0.0325,  0.0478, -0.1006,  0.0630, -0.0519,\n",
       "          0.0119,  0.0171, -0.1364],\n",
       "        [ 0.0733, -0.0282,  0.0617, -0.0598, -0.0526,  0.0143, -0.0961,\n",
       "          0.0646,  0.0220, -0.0740],\n",
       "        [ 0.1072, -0.0256,  0.0080,  0.0269, -0.1164, -0.0293, -0.0848,\n",
       "          0.0403, -0.0170, -0.0810],\n",
       "        [ 0.0522, -0.0345,  0.0681, -0.0508, -0.0149, -0.0027, -0.0861,\n",
       "          0.0090,  0.0279, -0.0476],\n",
       "        [ 0.0336, -0.0270,  0.0463,  0.0242, -0.0692,  0.0148, -0.0889,\n",
       "          0.0069,  0.0429, -0.1187],\n",
       "        [ 0.0412, -0.0588,  0.1421, -0.0679, -0.0819,  0.0361, -0.0667,\n",
       "         -0.0205,  0.0112, -0.0617],\n",
       "        [-0.0192, -0.0229,  0.0079,  0.0163, -0.1022, -0.0083, -0.0842,\n",
       "         -0.0292,  0.0300, -0.0632],\n",
       "        [ 0.0388, -0.0465,  0.0452, -0.0096, -0.0730,  0.0260,  0.0010,\n",
       "         -0.0563,  0.0002, -0.1460],\n",
       "        [ 0.0585, -0.0233,  0.0028,  0.0161, -0.0867,  0.0093, -0.0248,\n",
       "         -0.0537,  0.0368, -0.1345],\n",
       "        [-0.0182, -0.0424,  0.1421, -0.1128,  0.0408,  0.0831, -0.0710,\n",
       "         -0.0685, -0.0097, -0.1386],\n",
       "        [ 0.0904, -0.0433, -0.0262, -0.0338, -0.0709,  0.0328, -0.0466,\n",
       "          0.0520,  0.0570, -0.1342],\n",
       "        [ 0.0004, -0.0001, -0.0413, -0.0188, -0.0679, -0.0130, -0.0327,\n",
       "         -0.0566,  0.0568, -0.1145],\n",
       "        [ 0.0725,  0.0022, -0.0735, -0.0096, -0.1015,  0.0042, -0.0823,\n",
       "          0.0531,  0.0774, -0.1119],\n",
       "        [ 0.0298, -0.0095, -0.0330,  0.0314, -0.0643, -0.0228, -0.0824,\n",
       "          0.0220,  0.0060, -0.1083],\n",
       "        [ 0.0308, -0.0286,  0.0189, -0.0714, -0.0708,  0.0152, -0.0518,\n",
       "          0.0136,  0.0533, -0.0235],\n",
       "        [ 0.0370, -0.0697,  0.1180, -0.0736, -0.0451,  0.0486, -0.0542,\n",
       "         -0.0285,  0.0219, -0.0970],\n",
       "        [ 0.0398, -0.0479,  0.0211,  0.0635, -0.0987,  0.0075, -0.0265,\n",
       "         -0.0583,  0.0348, -0.1169],\n",
       "        [ 0.0263, -0.0431,  0.0002, -0.0012, -0.0726,  0.0054, -0.0068,\n",
       "         -0.0358,  0.0060, -0.1099],\n",
       "        [-0.0006,  0.0431, -0.0553,  0.0012, -0.0880, -0.0647, -0.0845,\n",
       "         -0.0137,  0.0675, -0.0553],\n",
       "        [ 0.0406, -0.0517,  0.0792, -0.0179, -0.0934,  0.0024, -0.0577,\n",
       "          0.0428,  0.0217, -0.0719],\n",
       "        [ 0.1034, -0.0223,  0.0190,  0.0002, -0.1085,  0.0818, -0.0019,\n",
       "         -0.0015,  0.0565, -0.1539],\n",
       "        [ 0.0141, -0.0024,  0.0380,  0.0348, -0.0797, -0.0636, -0.0794,\n",
       "         -0.0214,  0.0165, -0.1152],\n",
       "        [ 0.0631,  0.0012, -0.0223,  0.0303, -0.0793, -0.0191, -0.0825,\n",
       "         -0.0412,  0.0674, -0.1722],\n",
       "        [ 0.1021,  0.0105,  0.0348, -0.0185, -0.0920, -0.0064, -0.1190,\n",
       "          0.0913, -0.0204, -0.0758],\n",
       "        [ 0.0734,  0.0337,  0.0375, -0.0258, -0.0057, -0.0193, -0.0717,\n",
       "         -0.0033,  0.0192, -0.0438]])"
      ]
     },
     "execution_count": 6,
     "metadata": {},
     "output_type": "execute_result"
    }
   ],
   "source": [
    "logits"
   ]
  },
  {
   "cell_type": "code",
   "execution_count": 7,
   "metadata": {},
   "outputs": [
    {
     "data": {
      "text/plain": [
       "tensor([ 3,  8,  3,  0,  5,  5,  2,  8,  2,  1,  9,  7,  4,  8,\n",
       "         2,  5,  3,  8,  3,  7,  4,  3,  0,  8,  4,  7,  0,  8,\n",
       "         1,  7,  6,  6,  8,  2,  2,  1,  9,  2,  1,  8,  3,  2,\n",
       "         7,  0,  3,  3,  7,  7,  7,  7,  5,  3,  8,  8,  2,  6,\n",
       "         3,  4,  4,  4,  9,  5,  9,  2])"
      ]
     },
     "execution_count": 7,
     "metadata": {},
     "output_type": "execute_result"
    }
   ],
   "source": [
    "labels"
   ]
  },
  {
   "cell_type": "code",
   "execution_count": 8,
   "metadata": {},
   "outputs": [
    {
     "data": {
      "text/plain": [
       "tensor(2.2996)"
      ]
     },
     "execution_count": 8,
     "metadata": {},
     "output_type": "execute_result"
    }
   ],
   "source": [
    "criterion(logits, labels)"
   ]
  },
  {
   "cell_type": "markdown",
   "metadata": {},
   "source": [
    "#### < / draft >"
   ]
  },
  {
   "cell_type": "markdown",
   "metadata": {},
   "source": [
    "In my experience it's more convenient to build the model with a log-softmax output using `nn.LogSoftmax` or `F.log_softmax` ([documentation](https://pytorch.org/docs/stable/nn.html#torch.nn.LogSoftmax)). Then you can get the actual probabilities by taking the exponential `torch.exp(output)`. With a log-softmax output, you want to use the negative log likelihood loss, `nn.NLLLoss` ([documentation](https://pytorch.org/docs/stable/nn.html#torch.nn.NLLLoss)).\n",
    "\n",
    ">**Exercise:** Build a model that returns the log-softmax as the output and calculate the loss using the negative log likelihood loss. Note that for `nn.LogSoftmax` and `F.log_softmax` you'll need to set the `dim` keyword argument appropriately. `dim=0` calculates softmax across the rows, so each column sums to 1, while `dim=1` calculates across the columns so each row sums to 1. Think about what you want the output to be and choose `dim` appropriately."
   ]
  },
  {
   "cell_type": "code",
   "execution_count": 9,
   "metadata": {},
   "outputs": [
    {
     "name": "stdout",
     "output_type": "stream",
     "text": [
      "tensor(2.3151)\n"
     ]
    }
   ],
   "source": [
    "# TODO: Build a feed-forward network\n",
    "model = nn.Sequential(nn.Linear(784, 128),\n",
    "                      nn.ReLU(),\n",
    "                      nn.Linear(128, 64),\n",
    "                      nn.ReLU(),\n",
    "                      nn.Linear(64, 10),\n",
    "                      nn.LogSoftmax(dim=1))\n",
    "\n",
    "# TODO: Define the loss\n",
    "criterion = nn.NLLLoss()\n",
    "\n",
    "### Run this to check your work\n",
    "# Get our data\n",
    "images, labels = next(iter(trainloader))\n",
    "# Flatten images\n",
    "images = images.view(images.shape[0], -1)\n",
    "\n",
    "# Forward pass, get our logits\n",
    "logits = model(images)\n",
    "# Calculate the loss with the logits and the labels\n",
    "loss = criterion(logits, labels)\n",
    "\n",
    "print(loss)"
   ]
  },
  {
   "cell_type": "markdown",
   "metadata": {},
   "source": [
    "## Autograd\n",
    "\n",
    "Now that we know how to calculate a loss, how do we use it to perform backpropagation? Torch provides a module, `autograd`, for automatically calculating the gradients of tensors. We can use it to calculate the gradients of all our parameters with respect to the loss. Autograd works by keeping track of operations performed on tensors, then going backwards through those operations, calculating gradients along the way. To make sure PyTorch keeps track of operations on a tensor and calculates the gradients, you need to set `requires_grad = True` on a tensor. You can do this at creation with the `requires_grad` keyword, or at any time with `x.requires_grad_(True)`.\n",
    "\n",
    "You can turn off gradients for a block of code with the `torch.no_grad()` content:\n",
    "```python\n",
    "x = torch.zeros(1, requires_grad=True)\n",
    ">>> with torch.no_grad():\n",
    "...     y = x * 2\n",
    ">>> y.requires_grad\n",
    "False\n",
    "```\n",
    "\n",
    "Also, you can turn on or off gradients altogether with `torch.set_grad_enabled(True|False)`.\n",
    "\n",
    "The gradients are computed with respect to some variable `z` with `z.backward()`. This does a backward pass through the operations that created `z`."
   ]
  },
  {
   "cell_type": "code",
   "execution_count": 10,
   "metadata": {},
   "outputs": [
    {
     "name": "stdout",
     "output_type": "stream",
     "text": [
      "tensor([[ 1.1266,  0.8643],\n",
      "        [-1.2929,  1.7147]])\n"
     ]
    }
   ],
   "source": [
    "x = torch.randn(2,2, requires_grad=True)\n",
    "print(x)"
   ]
  },
  {
   "cell_type": "code",
   "execution_count": 11,
   "metadata": {},
   "outputs": [
    {
     "name": "stdout",
     "output_type": "stream",
     "text": [
      "tensor([[ 1.2692,  0.7471],\n",
      "        [ 1.6715,  2.9402]])\n"
     ]
    }
   ],
   "source": [
    "y = x**2\n",
    "print(y)"
   ]
  },
  {
   "cell_type": "markdown",
   "metadata": {},
   "source": [
    "Below we can see the operation that created `y`, a power operation `PowBackward0`."
   ]
  },
  {
   "cell_type": "code",
   "execution_count": 12,
   "metadata": {},
   "outputs": [
    {
     "name": "stdout",
     "output_type": "stream",
     "text": [
      "<PowBackward0 object at 0x7f0d41f2c048>\n"
     ]
    }
   ],
   "source": [
    "## grad_fn shows the function that generated this variable\n",
    "print(y.grad_fn)"
   ]
  },
  {
   "cell_type": "markdown",
   "metadata": {},
   "source": [
    "The autgrad module keeps track of these operations and knows how to calculate the gradient for each one. In this way, it's able to calculate the gradients for a chain of operations, with respect to any one tensor. Let's reduce the tensor `y` to a scalar value, the mean."
   ]
  },
  {
   "cell_type": "code",
   "execution_count": 13,
   "metadata": {},
   "outputs": [
    {
     "name": "stdout",
     "output_type": "stream",
     "text": [
      "tensor(1.6570)\n"
     ]
    }
   ],
   "source": [
    "z = y.mean()\n",
    "print(z)"
   ]
  },
  {
   "cell_type": "markdown",
   "metadata": {},
   "source": [
    "You can check the gradients for `x` and `y` but they are empty currently."
   ]
  },
  {
   "cell_type": "code",
   "execution_count": 14,
   "metadata": {},
   "outputs": [
    {
     "name": "stdout",
     "output_type": "stream",
     "text": [
      "None\n"
     ]
    }
   ],
   "source": [
    "print(x.grad)"
   ]
  },
  {
   "cell_type": "markdown",
   "metadata": {},
   "source": [
    "To calculate the gradients, you need to run the `.backward` method on a Variable, `z` for example. This will calculate the gradient for `z` with respect to `x`\n",
    "\n",
    "$$\n",
    "\\frac{\\partial z}{\\partial x} = \\frac{\\partial}{\\partial x}\\left[\\frac{1}{n}\\sum_i^n x_i^2\\right] = \\frac{x}{2}\n",
    "$$"
   ]
  },
  {
   "cell_type": "code",
   "execution_count": 15,
   "metadata": {},
   "outputs": [
    {
     "name": "stdout",
     "output_type": "stream",
     "text": [
      "tensor([[ 0.5633,  0.4322],\n",
      "        [-0.6464,  0.8573]])\n",
      "tensor([[ 0.5633,  0.4322],\n",
      "        [-0.6464,  0.8573]])\n"
     ]
    }
   ],
   "source": [
    "z.backward()\n",
    "print(x.grad)\n",
    "print(x/2)"
   ]
  },
  {
   "cell_type": "markdown",
   "metadata": {},
   "source": [
    "These gradients calculations are particularly useful for neural networks. For training we need the gradients of the weights with respect to the cost. With PyTorch, we run data forward through the network to calculate the loss, then, go backwards to calculate the gradients with respect to the loss. Once we have the gradients we can make a gradient descent step. "
   ]
  },
  {
   "cell_type": "markdown",
   "metadata": {},
   "source": [
    "## Loss and Autograd together\n",
    "\n",
    "When we create a network with PyTorch, all of the parameters are initialized with `requires_grad = True`. This means that when we calculate the loss and call `loss.backward()`, the gradients for the parameters are calculated. These gradients are used to update the weights with gradient descent. Below you can see an example of calculating the gradients using a backwards pass."
   ]
  },
  {
   "cell_type": "code",
   "execution_count": 20,
   "metadata": {},
   "outputs": [],
   "source": [
    "# Build a feed-forward network\n",
    "model = nn.Sequential(nn.Linear(784, 128),\n",
    "                      nn.ReLU(),\n",
    "                      nn.Linear(128, 64),\n",
    "                      nn.ReLU(),\n",
    "                      nn.Linear(64, 10),\n",
    "                      nn.LogSoftmax(dim=1))\n",
    "\n",
    "criterion = nn.NLLLoss()\n",
    "images, labels = next(iter(trainloader))\n",
    "images = images.view(images.shape[0], -1)\n",
    "\n",
    "logits = model(images)\n",
    "loss = criterion(logits, labels)"
   ]
  },
  {
   "cell_type": "code",
   "execution_count": 21,
   "metadata": {},
   "outputs": [
    {
     "name": "stdout",
     "output_type": "stream",
     "text": [
      "Before backward pass: \n",
      " None\n",
      "After backward pass: \n",
      " tensor(1.00000e-02 *\n",
      "       [[ 0.0368,  0.0368,  0.0368,  ...,  0.0368,  0.0368,  0.0368],\n",
      "        [ 0.1175,  0.1175,  0.1175,  ...,  0.1175,  0.1175,  0.1175],\n",
      "        [ 0.0005,  0.0005,  0.0005,  ...,  0.0005,  0.0005,  0.0005],\n",
      "        ...,\n",
      "        [ 0.0202,  0.0202,  0.0202,  ...,  0.0202,  0.0202,  0.0202],\n",
      "        [ 0.1100,  0.1100,  0.1100,  ...,  0.1100,  0.1100,  0.1100],\n",
      "        [ 0.3639,  0.3639,  0.3639,  ...,  0.3639,  0.3639,  0.3639]])\n"
     ]
    }
   ],
   "source": [
    "print('Before backward pass: \\n', model[0].weight.grad)\n",
    "\n",
    "loss.backward()\n",
    "\n",
    "print('After backward pass: \\n', model[0].weight.grad)"
   ]
  },
  {
   "cell_type": "markdown",
   "metadata": {},
   "source": [
    "## Training the network!\n",
    "\n",
    "There's one last piece we need to start training, an optimizer that we'll use to update the weights with the gradients. We get these from PyTorch's [`optim` package](https://pytorch.org/docs/stable/optim.html). For example we can use stochastic gradient descent with `optim.SGD`. You can see how to define an optimizer below."
   ]
  },
  {
   "cell_type": "code",
   "execution_count": 22,
   "metadata": {},
   "outputs": [],
   "source": [
    "from torch import optim\n",
    "\n",
    "# Optimizers require the parameters to optimize and a learning rate\n",
    "optimizer = optim.SGD(model.parameters(), lr=0.01)"
   ]
  },
  {
   "cell_type": "markdown",
   "metadata": {},
   "source": [
    "Now we know how to use all the individual parts so it's time to see how they work together. Let's consider just one learning step before looping through all the data. The general process with PyTorch:\n",
    "\n",
    "* Make a forward pass through the network \n",
    "* Use the network output to calculate the loss\n",
    "* Perform a backward pass through the network with `loss.backward()` to calculate the gradients\n",
    "* Take a step with the optimizer to update the weights\n",
    "\n",
    "Below I'll go through one training step and print out the weights and gradients so you can see how it changes. Note that I have a line of code `optimizer.zero_grad()`. When you do multiple backwards passes with the same parameters, the gradients are accumulated. This means that you need to zero the gradients on each training pass or you'll retain gradients from previous training batches."
   ]
  },
  {
   "cell_type": "code",
   "execution_count": 23,
   "metadata": {},
   "outputs": [
    {
     "name": "stdout",
     "output_type": "stream",
     "text": [
      "Initial weights -  Parameter containing:\n",
      "tensor([[-5.5707e-03, -2.1892e-02,  5.1260e-03,  ...,  2.1776e-02,\n",
      "         -2.2490e-02, -1.7596e-02],\n",
      "        [-4.7695e-03,  2.5158e-02,  3.0456e-02,  ...,  2.3526e-02,\n",
      "         -1.2972e-02,  2.4896e-02],\n",
      "        [-2.4465e-02,  1.3132e-02, -3.1311e-02,  ...,  6.2360e-03,\n",
      "          2.0212e-02, -1.6766e-02],\n",
      "        ...,\n",
      "        [ 1.2937e-02, -1.5880e-02,  4.2942e-03,  ..., -6.7282e-04,\n",
      "          2.3123e-02,  2.7934e-02],\n",
      "        [-5.6278e-03, -2.8586e-03,  2.3036e-02,  ...,  1.6356e-02,\n",
      "         -3.2393e-02,  1.8073e-02],\n",
      "        [-1.0936e-02,  1.1066e-02,  1.3370e-03,  ...,  2.2053e-02,\n",
      "         -3.1901e-02, -9.9788e-03]])\n",
      "Gradient - tensor(1.00000e-02 *\n",
      "       [[-0.1233, -0.1233, -0.1233,  ..., -0.1233, -0.1233, -0.1233],\n",
      "        [ 0.2405,  0.2405,  0.2405,  ...,  0.2405,  0.2405,  0.2405],\n",
      "        [ 0.0367,  0.0367,  0.0367,  ...,  0.0367,  0.0367,  0.0367],\n",
      "        ...,\n",
      "        [ 0.0014,  0.0014,  0.0014,  ...,  0.0014,  0.0014,  0.0014],\n",
      "        [ 0.1695,  0.1695,  0.1695,  ...,  0.1695,  0.1695,  0.1695],\n",
      "        [-0.1543, -0.1543, -0.1543,  ..., -0.1543, -0.1543, -0.1543]])\n"
     ]
    }
   ],
   "source": [
    "print('Initial weights - ', model[0].weight)\n",
    "\n",
    "images, labels = next(iter(trainloader))\n",
    "images.resize_(64, 784)\n",
    "\n",
    "# Clear the gradients, do this because gradients are accumulated\n",
    "optimizer.zero_grad()\n",
    "\n",
    "# Forward pass, then backward pass, then update weights\n",
    "output = model.forward(images)\n",
    "loss = criterion(output, labels)\n",
    "loss.backward()\n",
    "print('Gradient -', model[0].weight.grad)"
   ]
  },
  {
   "cell_type": "code",
   "execution_count": 24,
   "metadata": {},
   "outputs": [
    {
     "name": "stdout",
     "output_type": "stream",
     "text": [
      "Updated weights -  Parameter containing:\n",
      "tensor([[-5.5584e-03, -2.1880e-02,  5.1384e-03,  ...,  2.1788e-02,\n",
      "         -2.2478e-02, -1.7584e-02],\n",
      "        [-4.7936e-03,  2.5134e-02,  3.0432e-02,  ...,  2.3502e-02,\n",
      "         -1.2996e-02,  2.4872e-02],\n",
      "        [-2.4469e-02,  1.3128e-02, -3.1314e-02,  ...,  6.2323e-03,\n",
      "          2.0208e-02, -1.6770e-02],\n",
      "        ...,\n",
      "        [ 1.2937e-02, -1.5880e-02,  4.2941e-03,  ..., -6.7296e-04,\n",
      "          2.3123e-02,  2.7933e-02],\n",
      "        [-5.6447e-03, -2.8756e-03,  2.3019e-02,  ...,  1.6339e-02,\n",
      "         -3.2410e-02,  1.8056e-02],\n",
      "        [-1.0920e-02,  1.1082e-02,  1.3524e-03,  ...,  2.2068e-02,\n",
      "         -3.1886e-02, -9.9633e-03]])\n"
     ]
    }
   ],
   "source": [
    "# Take an update step and few the new weights\n",
    "optimizer.step()\n",
    "print('Updated weights - ', model[0].weight)"
   ]
  },
  {
   "cell_type": "markdown",
   "metadata": {},
   "source": [
    "### Training for real\n",
    "\n",
    "Now we'll put this algorithm into a loop so we can go through all the images. Some nomenclature, one pass through the entire dataset is called an *epoch*. So here we're going to loop through `trainloader` to get our training batches. For each batch, we'll doing a training pass where we calculate the loss, do a backwards pass, and update the weights.\n",
    "\n",
    ">**Exercise:** Implement the training pass for our network. If you implemented it correctly, you should see the training loss drop with each epoch."
   ]
  },
  {
   "cell_type": "code",
   "execution_count": 28,
   "metadata": {},
   "outputs": [
    {
     "name": "stdout",
     "output_type": "stream",
     "text": [
      "Training loss: 1.9729362615644297\n",
      "Training loss: 0.896774413425531\n",
      "Training loss: 0.5277315467786687\n",
      "Training loss: 0.43213437297450963\n",
      "Training loss: 0.38974073924807345\n"
     ]
    }
   ],
   "source": [
    "## Your solution here\n",
    "\n",
    "model = nn.Sequential(nn.Linear(784, 128),\n",
    "                      nn.ReLU(),\n",
    "                      nn.Linear(128, 64),\n",
    "                      nn.ReLU(),\n",
    "                      nn.Linear(64, 10),\n",
    "                      nn.LogSoftmax(dim=1))\n",
    "\n",
    "criterion = nn.NLLLoss()\n",
    "optimizer = optim.SGD(model.parameters(), lr=0.003)\n",
    "\n",
    "epochs = 5\n",
    "for e in range(epochs):\n",
    "    running_loss = 0\n",
    "    for images, labels in trainloader:\n",
    "        # Flatten MNIST images into a 784 long vector\n",
    "        images = images.view(images.shape[0], -1)\n",
    "    \n",
    "        # TODO: Training pass\n",
    "        optimizer.zero_grad()\n",
    "        output = model.forward(images)\n",
    "        loss = criterion(output, labels)\n",
    "        loss.backward()\n",
    "        optimizer.step()\n",
    "        \n",
    "        running_loss += loss.item()\n",
    "    else:\n",
    "        print(f\"Training loss: {running_loss/len(trainloader)}\")"
   ]
  },
  {
   "cell_type": "markdown",
   "metadata": {},
   "source": [
    "With the network trained, we can check out it's predictions."
   ]
  },
  {
   "cell_type": "code",
   "execution_count": 41,
   "metadata": {
    "scrolled": true
   },
   "outputs": [
    {
     "data": {
      "image/png": "[encoded data removed]",
      "text/plain": [
       "<matplotlib.figure.Figure at 0x7f0cf0c00208>"
      ]
     },
     "metadata": {
      "needs_background": "light"
     },
     "output_type": "display_data"
    }
   ],
   "source": [
    "%matplotlib inline\n",
    "import helper\n",
    "\n",
    "images, labels = next(iter(trainloader))\n",
    "\n",
    "img = images[0].view(1, 784)\n",
    "# Turn off gradients to speed up this part\n",
    "with torch.no_grad():\n",
    "    logits = model.forward(img)\n",
    "\n",
    "# Output of the network are logits, need to take softmax for probabilities\n",
    "ps = F.softmax(logits, dim=1)\n",
    "helper.view_classify(img.view(1, 28, 28), ps)"
   ]
  },
  {
   "cell_type": "markdown",
   "metadata": {},
   "source": [
    "Now our network is brilliant. It can accurately predict the digits in our images. Next up you'll write the code for training a neural network on a more complex dataset."
   ]
  }
 ],
 "metadata": {
  "kernelspec": {
   "display_name": "Python 3",
   "language": "python",
   "name": "python3"
  },
  "language_info": {
   "codemirror_mode": {
    "name": "ipython",
    "version": 3
   },
   "file_extension": ".py",
   "mimetype": "text/x-python",
   "name": "python",
   "nbconvert_exporter": "python",
   "pygments_lexer": "ipython3",
   "version": "3.6.3"
  }
 },
 "nbformat": 4,
 "nbformat_minor": 2
}
