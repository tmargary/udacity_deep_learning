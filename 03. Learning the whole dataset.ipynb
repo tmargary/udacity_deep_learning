{
 "cells": [
  {
   "cell_type": "code",
   "execution_count": 24,
   "metadata": {},
   "outputs": [
    {
     "name": "stdout",
     "output_type": "stream",
     "text": [
      "     Error: 2.6561231104\n",
      "     Error: 0.9628701776715985\n",
      "     Error: 0.5509165866836797\n",
      "     Error: 0.36445836852222424\n",
      "     Error: 0.2516768662079895\n",
      "     Error: 0.17797575048089034\n",
      "     Error: 0.12864460733422164\n",
      "     Error: 0.09511036950476208\n",
      "     Error: 0.07194564247043436\n",
      "     Error: 0.05564914990717743\n",
      "     Error: 0.04394763937673939\n",
      "     Error: 0.035357967050948465\n",
      "     Error: 0.02890700056547436\n",
      "     Error: 0.023951660591138853\n",
      "     Error: 0.020063105176016144\n",
      "     Error: 0.016952094519447087\n",
      "     Error: 0.014420818295271236\n",
      "     Error: 0.012331739998443648\n",
      "     Error: 0.010587393171639842\n",
      "     Error: 0.009117233405426495\n",
      "     Error: 0.00786904226904208\n",
      "     Error: 0.006803273214640502\n",
      "     Error: 0.005889303541837786\n",
      "     Error: 0.0051029252561172675\n",
      "     Error: 0.004424644608684828\n",
      "     Error: 0.0038385124412518303\n",
      "     Error: 0.0033313054558089675\n",
      "     Error: 0.0028919416227737734\n",
      "     Error: 0.002511053608117256\n",
      "     Error: 0.0021806703520253884\n",
      "     Error: 0.0018939739123713475\n",
      "     Error: 0.0016451096996342332\n",
      "     Error: 0.0014290353984827077\n",
      "     Error: 0.0012413985592149145\n",
      "     Error: 0.0010784359268087556\n",
      "     Error: 0.0009368896209360312\n",
      "     Error: 0.0008139366504753339\n",
      "     Error: 0.0007071291752624441\n",
      "     Error: 0.0006143435674831474\n",
      "     Error: 0.00053373677328488\n"
     ]
    }
   ],
   "source": [
    "import numpy as np\n",
    "weights = np.array([0.5,0.48,-0.7])\n",
    "alpha = 0.1\n",
    "streetlights = np.array( [[ 1, 0, 1 ],\n",
    "                          [ 0, 1, 1 ],\n",
    "                          [ 0, 0, 1 ],\n",
    "                          [ 1, 1, 1 ],\n",
    "                          [ 0, 1, 1 ],\n",
    "                          [ 1, 0, 1 ]] )\n",
    "\n",
    "walk_vs_stop = np.array( [ 0, 1, 0, 1, 1, 0 ] )\n",
    "\n",
    "for iteration in range(40):\n",
    "    error_for_all_lights = 0\n",
    "    for row_index in range(len(walk_vs_stop)):\n",
    "        input = streetlights[row_index]\n",
    "        goal_pred = walk_vs_stop[row_index]\n",
    "        \n",
    "        pred = input.dot(weights)\n",
    "        \n",
    "        error = (goal_pred - pred) ** 2\n",
    "        error_for_all_lights += error\n",
    "        \n",
    "        delta = pred - goal_pred\n",
    "        weights = weights - (alpha * (input * delta))\n",
    "        \n",
    "        #print(f\"Prediction: {pred}\")\n",
    "    print(f\"     Error: {error_for_all_lights}\")"
   ]
  },
  {
   "cell_type": "code",
   "execution_count": null,
   "metadata": {},
   "outputs": [],
   "source": []
  }
 ],
 "metadata": {
  "kernelspec": {
   "display_name": "Python 3",
   "language": "python",
   "name": "python3"
  },
  "language_info": {
   "codemirror_mode": {
    "name": "ipython",
    "version": 3
   },
   "file_extension": ".py",
   "mimetype": "text/x-python",
   "name": "python",
   "nbconvert_exporter": "python",
   "pygments_lexer": "ipython3",
   "version": "3.8.5"
  }
 },
 "nbformat": 4,
 "nbformat_minor": 4
}
