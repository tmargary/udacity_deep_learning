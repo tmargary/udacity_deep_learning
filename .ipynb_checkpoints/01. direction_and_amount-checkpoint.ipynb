{
 "cells": [
  {
   "cell_type": "markdown",
   "metadata": {},
   "source": [
    "# Calculating Both direction and amount from error"
   ]
  },
  {
   "cell_type": "code",
   "execution_count": 1,
   "metadata": {},
   "outputs": [
    {
     "name": "stdout",
     "output_type": "stream",
     "text": [
      "Error: 0.30250000000000005\tPrediction: 0.25\tdirection_and_amount: -0.275\n",
      "Error: 0.17015625000000004\tPrediction: 0.3875\tdirection_and_amount: -0.20625000000000002\n",
      "Error: 0.095712890625\tPrediction: 0.49062500000000003\tdirection_and_amount: -0.1546875\n",
      "Error: 0.05383850097656251\tPrediction: 0.56796875\tdirection_and_amount: -0.11601562500000001\n",
      "Error: 0.03028415679931642\tPrediction: 0.6259765625\tdirection_and_amount: -0.08701171875000002\n",
      "Error: 0.0170348381996155\tPrediction: 0.669482421875\tdirection_and_amount: -0.06525878906250004\n",
      "Error: 0.00958209648728372\tPrediction: 0.70211181640625\tdirection_and_amount: -0.04894409179687503\n",
      "Error: 0.005389929274097089\tPrediction: 0.7265838623046875\tdirection_and_amount: -0.03670806884765626\n",
      "Error: 0.0030318352166796153\tPrediction: 0.7449378967285156\tdirection_and_amount: -0.02753105163574221\n",
      "Error: 0.0017054073093822882\tPrediction: 0.7587034225463867\tdirection_and_amount: -0.020648288726806685\n",
      "Error: 0.0009592916115275371\tPrediction: 0.76902756690979\tdirection_and_amount: -0.015486216545105014\n",
      "Error: 0.0005396015314842384\tPrediction: 0.7767706751823426\tdirection_and_amount: -0.011614662408828746\n",
      "Error: 0.000303525861459885\tPrediction: 0.7825780063867569\tdirection_and_amount: -0.008710996806621574\n",
      "Error: 0.00017073329707118678\tPrediction: 0.7869335047900676\tdirection_and_amount: -0.006533247604966208\n",
      "Error: 9.603747960254256e-05\tPrediction: 0.7902001285925507\tdirection_and_amount: -0.004899935703724656\n",
      "Error: 5.402108227642978e-05\tPrediction: 0.7926500964444131\tdirection_and_amount: -0.003674951777793478\n",
      "Error: 3.038685878049206e-05\tPrediction: 0.7944875723333098\tdirection_and_amount: -0.0027562138333451225\n",
      "Error: 1.7092608064027242e-05\tPrediction: 0.7958656792499823\tdirection_and_amount: -0.0020671603750088696\n",
      "Error: 9.614592036015323e-06\tPrediction: 0.7968992594374867\tdirection_and_amount: -0.0015503702812566522\n",
      "Error: 5.408208020258491e-06\tPrediction: 0.7976744445781151\tdirection_and_amount: -0.0011627777109424753\n"
     ]
    }
   ],
   "source": [
    "weight = 0.5\n",
    "goal_pred = 0.8\n",
    "input = 0.5\n",
    "\n",
    "for iteration in range(20):\n",
    "    pred = input * weight\n",
    "    error = (pred - goal_pred) ** 2\n",
    "    direction_and_amount = (pred - goal_pred) * input\n",
    "    weight = weight - direction_and_amount\n",
    "    \n",
    "    print(\"Error: \" + str(error) + \"\\tPrediction: \" + str(pred) + \"\\tdirection_and_amount: \" + str(direction_and_amount))"
   ]
  },
  {
   "cell_type": "markdown",
   "metadata": {},
   "source": [
    "**What is the direction_and_amount?**\n",
    "\n",
    "It represents how we want to change our weight. Th e fi rst (1) is what we call \"pure\n",
    "error\" which equals (pred - goal_pred). Th is number represents \"the raw direction and amount that we missed\". Th e second part (2) is the multiplication by the\n",
    "input which performs scaling, negative reversal and stopping...modifying the \"pure\n",
    "error\" so that it's ready to update our weight.\n",
    "\n",
    "\n",
    "**What is the \"pure error\"?**\n",
    "\n",
    "It's the (pred - goal_pred) which indicates \"the raw direction and amount that we\n",
    "missed\". If this is a positive number then we predicted too high and vice versa. If this\n",
    "is a big number then we missed by a big amount, etc.\n",
    "\n",
    "\n",
    "**What is \"scaling, negative reversal, and stopping\"?**\n",
    "\n",
    "Th ese three attributes have the combined aff ect of translating our \"pure error\" into\n",
    "\"the absolute amount that we want to change our weight\". Th ey do so by addressing\n",
    "three major edge cases at which points the \"pure error\" is not suffi cient to make a\n",
    "good modifi cation to our weight.\n",
    "\n",
    "**What is \"stopping\"?**\n",
    "\n",
    "This is the first (and simplest) affect on our \"pure error\" caused by multiplying it\n",
    "by our input. Imagine plugging in a CD player into your stereo. If you turned the\n",
    "volume all the way up but the CD player was off... it simply wouldn't matter. \"Stopping\" addresses this in our neural network... if our input is 0, then it will force our\n",
    "direction_and_amount to also be 0. We don't learn (i.e. \"change the volume\") when\n",
    "our input is 0 because there's nothing to learn... every weight value has the same\n",
    "error... and moving it makes no difference because the pred is always 0.\n",
    "\n",
    "**What is \"negative reversal\"?**\n",
    "\n",
    "This is probably our most difficult and important effect. Normally (when input is\n",
    "positive), moving our weight upward makes our prediction move upward. However, if our input is negative, then all of a sudden our weight changes directions!!!\n",
    "When our input is negative, then moving our weight up makes the prediction go\n",
    "down. It's reversed!!! How do we address this? Well, multiplying our \"pure error\" by\n",
    "our input will reverse the sign of our direction_and_amount in the event that our\n",
    "input is negative. This is \"negative reversal\", ensuring that our weight moves in\n",
    "the correct direction, even if the input is negative.\n",
    "\n",
    "**What is \"scaling\"?**\n",
    "\n",
    "Scaling is the second effect on our \"pure error\" caused by multiplying it by our\n",
    "input. Logically, it means that if our input was big, our weight update should also be\n",
    "big. This is more of a \"side affect\" as it can often go out of control. Later, we will use\n",
    "alpha to address when this scaling goes out of control."
   ]
  },
  {
   "cell_type": "code",
   "execution_count": 2,
   "metadata": {
    "scrolled": true
   },
   "outputs": [
    {
     "name": "stdout",
     "output_type": "stream",
     "text": [
      "weight: -0.07500000000000007\n",
      "weight: 0.09375\n",
      "weight: -0.1171875\n",
      "weight: 0.146484375\n",
      "weight: -0.18310546875\n",
      "weight: 0.2288818359375\n",
      "weight: -0.286102294921875\n",
      "weight: 0.35762786865234375\n",
      "weight: -0.4470348358154297\n",
      "weight: 0.5587935447692871\n",
      "weight: -0.6984919309616088\n",
      "weight: 0.8731149137020108\n",
      "weight: -1.0913936421275132\n",
      "weight: 1.3642420526593917\n",
      "weight: -1.7053025658242398\n",
      "weight: 2.1316282072803\n",
      "weight: -2.6645352591003753\n",
      "weight: 3.3306690738754696\n",
      "weight: -4.163336342344338\n",
      "weight: 5.204170427930423\n"
     ]
    }
   ],
   "source": [
    "weight, goal_pred, input = (0.5, 0.8, 1.5)\n",
    "\n",
    "for iteration in range(20):\n",
    "    pred = input * weight\n",
    "    error = (pred - goal_pred) ** 2\n",
    "    delta = pred - goal_pred\n",
    "    weight_delta = delta * input\n",
    "    weight = weight - weight_delta\n",
    "        \n",
    "    #print(\"Error: \" + str(error) + \" Prediction: \" + str(pred))\n",
    "    print(f\"weight: {weight_delta}\")"
   ]
  },
  {
   "cell_type": "code",
   "execution_count": 3,
   "metadata": {},
   "outputs": [
    {
     "name": "stdout",
     "output_type": "stream",
     "text": [
      "Error: 16.0 Prediction: 4.0\n",
      "weight: 0.244\n",
      "Error: 36.578304 Prediction: 1.952\n",
      "weight: 0.15184\n",
      "Error: 46.0400246784 Prediction: 1.21472\n",
      "weight: 0.1186624\n",
      "Error: 49.71238177112063 Prediction: 0.9492992\n",
      "weight: 0.106718464\n",
      "Error: 51.06892176374524 Prediction: 0.853747712\n",
      "weight: 0.10241864704\n",
      "Error: 51.561746251616256 Prediction: 0.81934917632\n",
      "weight: 0.1008707129344\n",
      "Error: 51.73974239098203 Prediction: 0.8069657034752\n",
      "weight: 0.100313456656384\n",
      "Error: 51.803896081509386 Prediction: 0.802507653251072\n",
      "weight: 0.10011284439629824\n",
      "Error: 51.827001140513346 Prediction: 0.8009027551703859\n",
      "weight: 0.10004062398266737\n",
      "Error: 51.835320222816435 Prediction: 0.800324991861339\n",
      "weight: 0.10001462463376026\n",
      "Error: 51.838315255879124 Prediction: 0.8001169970700821\n",
      "weight: 0.1000052648681537\n",
      "Error: 51.83939348896269 Prediction: 0.8000421189452296\n",
      "weight: 0.10000189535253534\n",
      "Error: 51.83978165561784 Prediction: 0.8000151628202827\n",
      "weight: 0.10000068232691273\n",
      "Error: 51.83992139596945 Prediction: 0.8000054586153018\n",
      "weight: 0.10000024563768858\n",
      "Error: 51.83997170254214 Prediction: 0.8000019651015087\n",
      "weight: 0.1000000884295679\n",
      "Error: 51.83998981291428 Prediction: 0.8000007074365432\n",
      "weight: 0.10000003183464444\n",
      "Error: 51.83999633264902 Prediction: 0.8000002546771555\n",
      "weight: 0.10000001146047201\n",
      "Error: 51.839998679753634 Prediction: 0.8000000916837761\n",
      "weight: 0.10000000412576993\n",
      "Error: 51.8399995247113 Prediction: 0.8000000330061594\n",
      "weight: 0.10000000148527717\n",
      "Error: 51.83999982889607 Prediction: 0.8000000118822174\n",
      "weight: 0.10000000053469979\n"
     ]
    }
   ],
   "source": [
    "alpha, weight, goal_pred, input = (0.01, 0.5, 0.8, 8)\n",
    "\n",
    "for iteration in range(20):\n",
    "    pred = input * weight\n",
    "    error = (pred - input) ** 2\n",
    "    derivative = (pred - goal_pred) * input\n",
    "    weight = weight - alpha*derivative\n",
    "        \n",
    "    print(\"Error: \" + str(error) + \" Prediction: \" + str(pred))\n",
    "    print(f\"weight: {weight}\")"
   ]
  },
  {
   "cell_type": "code",
   "execution_count": 4,
   "metadata": {},
   "outputs": [
    {
     "name": "stdout",
     "output_type": "stream",
     "text": [
      "2.5\n",
      "2.0749999999999997\n",
      "1.75625\n",
      "1.5171875000000001\n",
      "1.337890625\n",
      "1.20341796875\n",
      "1.1025634765625\n",
      "1.026922607421875\n",
      "0.9701919555664062\n",
      "0.9276439666748048\n",
      "0.8957329750061036\n",
      "0.8717997312545777\n",
      "0.8538497984409332\n",
      "0.8403873488307\n",
      "0.830290511623025\n",
      "0.8227178837172687\n",
      "0.8170384127879515\n",
      "0.8127788095909637\n",
      "0.8095841071932228\n",
      "0.8071880803949171\n"
     ]
    }
   ],
   "source": [
    "alpha = 0.01\n",
    "weight = 0.5\n",
    "input = 5\n",
    "goal = 0.8\n",
    "\n",
    "for i in range(20):\n",
    "    pred = input * weight\n",
    "    error = (pred - goal) ** 2\n",
    "    derivative = (pred - goal) * input\n",
    "    weight = weight - (derivative * alpha)\n",
    "    \n",
    "    print(pred)"
   ]
  }
 ],
 "metadata": {
  "kernelspec": {
   "display_name": "Python 3",
   "language": "python",
   "name": "python3"
  },
  "language_info": {
   "codemirror_mode": {
    "name": "ipython",
    "version": 3
   },
   "file_extension": ".py",
   "mimetype": "text/x-python",
   "name": "python",
   "nbconvert_exporter": "python",
   "pygments_lexer": "ipython3",
   "version": "3.8.5"
  }
 },
 "nbformat": 4,
 "nbformat_minor": 4
}
